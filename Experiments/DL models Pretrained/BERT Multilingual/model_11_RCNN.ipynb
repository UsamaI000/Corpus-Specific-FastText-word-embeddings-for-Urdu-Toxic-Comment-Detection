{
  "nbformat": 4,
  "nbformat_minor": 0,
  "metadata": {
    "colab": {
      "name": "model_10_RCNN.ipynb",
      "provenance": [],
      "collapsed_sections": []
    },
    "kernelspec": {
      "name": "python3",
      "display_name": "Python 3"
    },
    "language_info": {
      "name": "python"
    },
    "accelerator": "GPU"
  },
  "cells": [
    {
      "cell_type": "code",
      "source": [
        "from google.colab import drive\n",
        "drive.mount('/content/drive')"
      ],
      "metadata": {
        "colab": {
          "base_uri": "https://localhost:8080/"
        },
        "id": "zivdzTdOmAsw",
        "outputId": "5066a502-0035-4307-fd2b-2afab0e03957"
      },
      "execution_count": 1,
      "outputs": [
        {
          "output_type": "stream",
          "name": "stdout",
          "text": [
            "Mounted at /content/drive\n"
          ]
        }
      ]
    },
    {
      "cell_type": "code",
      "metadata": {
        "id": "8VU-0_ppMSOv",
        "colab": {
          "base_uri": "https://localhost:8080/"
        },
        "outputId": "5f216903-0415-4d9b-e4e8-809cfbc79b77"
      },
      "source": [
        "!pip install tez"
      ],
      "execution_count": 2,
      "outputs": [
        {
          "output_type": "stream",
          "name": "stdout",
          "text": [
            "Collecting tez\n",
            "  Downloading tez-0.2.0-py3-none-any.whl (16 kB)\n",
            "Requirement already satisfied: torch>=1.6.0 in /usr/local/lib/python3.7/dist-packages (from tez) (1.10.0+cu111)\n",
            "Requirement already satisfied: typing-extensions in /usr/local/lib/python3.7/dist-packages (from torch>=1.6.0->tez) (3.10.0.2)\n",
            "Installing collected packages: tez\n",
            "Successfully installed tez-0.2.0\n"
          ]
        }
      ]
    },
    {
      "cell_type": "code",
      "metadata": {
        "id": "EZT_Zz5CCS-L"
      },
      "source": [
        "import os\n",
        "import numpy as np\n",
        "import seaborn as sns\n",
        "import matplotlib.pyplot as plt\n",
        "import matplotlib.gridspec as gridspec\n",
        "import sklearn\n",
        "import pandas as pd\n",
        "from sklearn.model_selection import train_test_split, StratifiedShuffleSplit\n",
        "import torch\n",
        "import torch.nn as nn\n",
        "from torch import optim\n",
        "from torch.utils.data import TensorDataset, DataLoader, ConcatDataset\n",
        "import tez\n",
        "from sklearn import metrics, model_selection\n",
        "from keras.preprocessing import text, sequence\n",
        "from keras.preprocessing.text import Tokenizer\n",
        "from keras.preprocessing.sequence import pad_sequences\n",
        "import pickle\n",
        "torch.cuda.empty_cache()\n",
        "import warnings\n",
        "warnings.filterwarnings(\"ignore\") "
      ],
      "execution_count": 1,
      "outputs": []
    },
    {
      "cell_type": "code",
      "source": [
        "class RCNN_(tez.Model):\n",
        "    def __init__(self, vocab_size, embedding_dim, hidden_size, hidden_size_linear,hidden_size_linear1,hidden_size_linear2,hidden_size_linear3, class_num, dropout, word_embeddings, weights=None, average='binary'):\n",
        "        super(RCNN_, self).__init__()\n",
        "        self.average = average\n",
        "        self.dropout = nn.Dropout(dropout)\n",
        "        self.n_layers = 1\n",
        "        self.embedding = nn.Embedding(vocab_size, embedding_dim, padding_idx=0)\n",
        "        self.embedding.weight = nn.Parameter(word_embeddings, requires_grad=False) \n",
        "        self.lstm = nn.LSTM(embedding_dim, hidden_size, self.n_layers, batch_first=True, bidirectional=True, dropout=dropout)\n",
        "        self.W = nn.Linear(embedding_dim + 2*hidden_size, hidden_size_linear)\n",
        "        self.tanh = nn.Tanh()\n",
        "        # self.fc = nn.Linear(hidden_size_linear, class_num)\n",
        "        self.weights = weights\n",
        "        # Fully-Connected Layer\n",
        "        self.fc = nn.Linear(\n",
        "            hidden_size_linear,\n",
        "            class_num)\n",
        "            #hidden_size_linear1)\n",
        "        \n",
        "        self.fc1 = nn.Linear(\n",
        "            hidden_size_linear1,\n",
        "            hidden_size_linear2) \n",
        "\n",
        "\n",
        "        self.fc2 = nn.Linear(\n",
        "            hidden_size_linear2,\n",
        "            hidden_size_linear3) \n",
        "\n",
        "        self.fc3 = nn.Linear(\n",
        "            hidden_size_linear3,\n",
        "            class_num)\n",
        "\n",
        "        \n",
        "    def fetch_optimizer(self):\n",
        "        opt = optim.Adam(self.parameters(), lr=0.001)   # Adam Optimizer \n",
        "        return opt\n",
        "\n",
        "    def fetch_scheduler(self):\n",
        "        sch = optim.lr_scheduler.StepLR(self.optimizer, step_size=3, gamma=0.7)   # Pytorch scheduler for LR\n",
        "        return sch\n",
        "\n",
        "    def loss(self, outputs, targets):\n",
        "        if targets is None:\n",
        "            return None\n",
        "        if self.weights!=None:\n",
        "          return nn.BCEWithLogitsLoss(pos_weight=self.weights)(outputs, targets.view(-1, 1))\n",
        "        else: return nn.BCEWithLogitsLoss()(outputs, targets.view(-1, 1))\n",
        "\n",
        "    def monitor_metrics(self, outputs, targets):\n",
        "        if targets is None:\n",
        "            return {}\n",
        "        outputs = torch.sigmoid(outputs).cpu().detach().numpy() >= 0.5\n",
        "        targets = targets.cpu().detach().numpy()\n",
        "        accuracy = metrics.accuracy_score(targets, outputs)\n",
        "        if self.average!=None:\n",
        "          prec = metrics.precision_score(targets, outputs, average=self.average)\n",
        "          f1 = metrics.f1_score(targets, outputs, average=self.average)\n",
        "          reca = metrics.recall_score(targets, outputs, average=self.average)\n",
        "        else:\n",
        "          prec = metrics.precision_score(targets, outputs)\n",
        "          f1 = metrics.f1_score(targets, outputs)\n",
        "          reca = metrics.recall_score(targets, outputs)\n",
        "        return {\"f1_score\":f1, \"accuracy\": accuracy, \"precision\": prec, 'recall': reca}\n",
        "\n",
        "    def forward(self, x, targets=None):\n",
        "        # x = x.T\n",
        "        x_emb = self.embedding(x)\n",
        "        # x_emb = |bs, seq_len, embedding_dim|\n",
        "        output, _ = self.lstm(x_emb)\n",
        "        # output = |bs, seq_len, 2*hidden_size|\n",
        "        output = torch.cat([output, x_emb], 2)\n",
        "        # output = |bs, seq_len, embedding_dim + 2*hidden_size|\n",
        "        output = self.tanh(self.W(output)).transpose(1, 2)\n",
        "        # output = |bs, seq_len, hidden_size_linear| -> |bs, hidden_size_linear, seq_len|\n",
        "        output = F.max_pool1d(output, output.size(2)).squeeze(2)\n",
        "        # output = |bs, hidden_size_linear|\n",
        "        # max_out_features = self.dropout(output)\n",
        "        output = self.fc(output)\n",
        "        # output = self.dropout(output)\n",
        "        # output = self.fc1(output)\n",
        "        # output = self.dropout(output)\n",
        "        # output = self.fc2(output)\n",
        "        # output = self.dropout(output)\n",
        "        # out2 = self.fc3(output)\n",
        "\n",
        "        loss = self.loss(output, targets)\n",
        "        acc = self.monitor_metrics(output, targets)\n",
        "        return output, loss, acc\n",
        "\n",
        "# LSTM MODEL CLASS\n",
        "class LSTMSentimentNet(tez.Model):\n",
        "    def __init__(self, vocab_size, embedding_dim, hidden_size, class_num, dropout, word_embeddings, weights=None, average='binary'):\n",
        "        super(LSTMSentimentNet, self).__init__()\n",
        "        self.average=average\n",
        "        self.weights=weights\n",
        "        self.output_size = class_num\n",
        "        self.n_layers = 1\n",
        "        self.hidden_dim = hidden_size\n",
        "        self.embedding_dim = embedding_dim\n",
        "        self.drop_prob = dropout\n",
        "        \n",
        "        self.embedding = nn.Embedding(vocab_size, self.embedding_dim)\n",
        "        self.embedding.weight = nn.Parameter(word_embeddings, requires_grad=False)\n",
        "        self.lstm = nn.LSTM(self.embedding_dim, self.hidden_dim, self.n_layers, dropout=self.drop_prob, batch_first=True, bidirectional=True)\n",
        "        self.dropout = nn.Dropout(self.drop_prob)\n",
        "        #self.fc = nn.Linear(self.hidden_dim, self.output_size)\n",
        "        # For bidirectional un-comment this\n",
        "        self.fc = nn.Linear(self.hidden_dim*2, self.output_size)\n",
        "        self.softmax = nn.Softmax(dim=1)\n",
        "        \n",
        "    def fetch_optimizer(self):\n",
        "        opt = optim.Adam(self.parameters(), lr=0.001)   # Adam Optimizer \n",
        "        return opt\n",
        "\n",
        "    def fetch_scheduler(self):\n",
        "        sch = optim.lr_scheduler.StepLR(self.optimizer, step_size=3, gamma=0.7)   # Pytorch scheduler for LR\n",
        "        return sch\n",
        "\n",
        "    def loss(self, outputs, targets):\n",
        "        if targets is None:\n",
        "            return None\n",
        "        if self.weights!=None:\n",
        "          return nn.BCEWithLogitsLoss(pos_weight=self.weights)(outputs, targets.view(-1, 1))\n",
        "        else: return nn.BCEWithLogitsLoss()(outputs, targets.view(-1, 1))\n",
        "\n",
        "    def monitor_metrics(self, outputs, targets):\n",
        "        if targets is None:\n",
        "            return {}\n",
        "        outputs = torch.sigmoid(outputs).cpu().detach().numpy() >= 0.5\n",
        "        targets = targets.cpu().detach().numpy()\n",
        "        accuracy = metrics.accuracy_score(targets, outputs)\n",
        "        if self.average!=None:\n",
        "          prec = metrics.precision_score(targets, outputs, average=self.average)\n",
        "          f1 = metrics.f1_score(targets, outputs, average=self.average)\n",
        "          reca = metrics.recall_score(targets, outputs, average=self.average)\n",
        "        else:\n",
        "          prec = metrics.precision_score(targets, outputs)\n",
        "          f1 = metrics.f1_score(targets, outputs)\n",
        "          reca = metrics.recall_score(targets, outputs)\n",
        "        return {\"f1_score\":f1, \"accuracy\": accuracy, \"precision\": prec, 'recall': reca}\n",
        "\n",
        "    def forward (self, x, targets=None):\n",
        "        input_words = x.long()                # INPUT   :  (batch_size, seq_length)\n",
        "        embedded_words = self.embedding(input_words)    # (batch_size, seq_length, n_embed)\n",
        "        lstm_out, h = self.lstm(embedded_words)         # (batch_size, seq_length, n_hidden)\n",
        "        #lstm_out = self.dropout(lstm_out)\n",
        "        out = self.fc(lstm_out[:, -1, :])\n",
        "\n",
        "        loss = self.loss(out, targets)\n",
        "        acc = self.monitor_metrics(out, targets)\n",
        "        return out, loss, acc\n"
      ],
      "metadata": {
        "id": "TGIuogNISJBf"
      },
      "execution_count": 3,
      "outputs": []
    },
    {
      "cell_type": "code",
      "source": [
        "from torch import nn\n",
        "from torch.nn import functional as F\n",
        "\n",
        "class RCNNDataset:\n",
        "    def __init__(self, x, y, max_len):\n",
        "        self.x = x\n",
        "        self.y = y\n",
        "        self.max_len = max_len\n",
        "\n",
        "    def __len__(self):\n",
        "        return len(self.x)\n",
        "\n",
        "    def __getitem__(self, item):\n",
        "        data = {\n",
        "            \"x\": torch.tensor(self.x[item], dtype=torch.long),\n",
        "            \"targets\": torch.tensor(self.y[item], dtype=torch.float),\n",
        "        }\n",
        "        return data"
      ],
      "metadata": {
        "id": "Q8w5oYZG_FCS"
      },
      "execution_count": 4,
      "outputs": []
    },
    {
      "cell_type": "code",
      "source": [
        "!cp -r \"/content/drive/MyDrive/Roman-Urdu-Toxic-Comments-master/config.py\" \"./\""
      ],
      "metadata": {
        "id": "aAquScmBDsE5"
      },
      "execution_count": 5,
      "outputs": []
    },
    {
      "cell_type": "code",
      "source": [
        "pth = f\"/content/drive/MyDrive/Roman-Urdu-Toxic-Comments-master/\"\n",
        "embeddingfile = pth+'Data/cc.ur.300.vec'"
      ],
      "metadata": {
        "id": "ygZ8ktD3DiOu"
      },
      "execution_count": 6,
      "outputs": []
    },
    {
      "cell_type": "code",
      "source": [
        "from config import *\n",
        "CONFIG = Config()\n",
        "\n",
        "# Configurations for the training setup\n",
        "EMBEDDING_TYPE = CONFIG.embedding\n",
        "ALGO = CONFIG.algo\n",
        "BATCH_SIZE = CONFIG.batch_size\n",
        "LR = CONFIG.lr\n",
        "EPOCHS = CONFIG.epochs\n",
        "DEVICE = CONFIG.device\n",
        "pre_trained_flag = True\n",
        "print(f'Using device {DEVICE}')\n",
        "print(f'Saving path is {pth}')"
      ],
      "metadata": {
        "colab": {
          "base_uri": "https://localhost:8080/"
        },
        "id": "SoHX0w11DgFT",
        "outputId": "4721ae91-81bf-4ef4-bbaa-7519ff626e63"
      },
      "execution_count": 7,
      "outputs": [
        {
          "output_type": "stream",
          "name": "stdout",
          "text": [
            "Using device cuda\n",
            "Saving path is /content/drive/MyDrive/Roman-Urdu-Toxic-Comments-master/\n"
          ]
        }
      ]
    },
    {
      "cell_type": "code",
      "source": [
        "import os\n",
        "from os import path\n",
        "PTH = f\"/content/drive/MyDrive/Roman-Urdu-Toxic-Comments-master/Data/\"\n",
        "# Directories path\n",
        "SAVE_PTH = f'/content/drive/MyDrive/Roman-Urdu-Toxic-Comments-master//RCNN Pretrained/'\n",
        "if path.isdir(SAVE_PTH): pass\n",
        "else: os.makedirs(SAVE_PTH)"
      ],
      "metadata": {
        "id": "YRvGs0H1vlrA"
      },
      "execution_count": 8,
      "outputs": []
    },
    {
      "cell_type": "code",
      "source": [
        "import gc\n",
        "\n",
        "def get_coefs( word, *arr ):\n",
        "    return word, np.asarray( arr, dtype='float32' )\n",
        "\n",
        "def get_vectors( tokenizer ):\n",
        "    word_index = tokenizer.word_index\n",
        "    num_words = min( max_features, len( word_index ) + 1 )\n",
        "    embedding_matrix = np.zeros( ( num_words, 300 ) )\n",
        "    for word, i in word_index.items(  ):\n",
        "        if i >= max_features:\n",
        "            continue\n",
        "        embedding_vector = embeddings_index.get( word )\n",
        "        if embedding_vector is not None:\n",
        "            embedding_matrix[i] = embedding_vector\n",
        "    gc.collect()\n",
        "    return embedding_matrix\n",
        "\n",
        "if pre_trained_flag == True:\n",
        "    embeddings_index = dict( get_coefs( *o.rstrip().rsplit(' ') ) for o in open( embeddingfile, encoding='utf-8' ) )\n"
      ],
      "metadata": {
        "id": "zpQufbC1DHfV"
      },
      "execution_count": 9,
      "outputs": []
    },
    {
      "cell_type": "code",
      "source": [
        "# loading tokenizer\n",
        "with open(PTH+'tokenizer.pickle', 'rb') as handle:\n",
        "    tokenizer = pickle.load(handle)"
      ],
      "metadata": {
        "id": "Y-pHg-6jwL2z"
      },
      "execution_count": 10,
      "outputs": []
    },
    {
      "cell_type": "code",
      "source": [
        "train_df = pd.read_excel(PTH+\"TrainingSet.xlsx\")\n",
        "train_df['clean'] = train_df['clean'].apply(str)\n",
        "valid_df = pd.read_excel(PTH+\"ValidationSet.xlsx\")\n",
        "valid_df['clean'] = valid_df['clean'].apply(str)\n",
        "test_df = pd.read_excel(PTH+\"Testing.xlsx\")\n",
        "len(train_df), len(valid_df), len(test_df)"
      ],
      "metadata": {
        "colab": {
          "base_uri": "https://localhost:8080/"
        },
        "id": "XEqjtYR73gqW",
        "outputId": "4152c36a-b00e-4b55-f844-f22b402a1ff3"
      },
      "execution_count": 11,
      "outputs": [
        {
          "output_type": "execute_result",
          "data": {
            "text/plain": [
              "(51023, 5670, 14174)"
            ]
          },
          "metadata": {},
          "execution_count": 11
        }
      ]
    },
    {
      "cell_type": "code",
      "source": [
        "max_features = 10000000\n",
        "\n",
        "traincomments = tokenizer.texts_to_sequences( train_df[ 'clean' ].values )\n",
        "valcomments = tokenizer.texts_to_sequences( valid_df[ 'clean' ].values )\n",
        "testcomments = tokenizer.texts_to_sequences( test_df[ 'clean' ].values )\n",
        "\n",
        "# pad the tokenized sequences\n",
        "xtrain = sequence.pad_sequences( traincomments, maxlen=200 )\n",
        "xval = sequence.pad_sequences( valcomments, maxlen=200 )\n",
        "xtest = sequence.pad_sequences( testcomments, maxlen=200 )\n",
        "\n",
        "ytrain = train_df[ 'Toxic' ].values\n",
        "ytest = test_df[ 'Toxic' ].values\n",
        "yval = valid_df[ 'Toxic' ].values"
      ],
      "metadata": {
        "id": "nr9eDJuN6OKd"
      },
      "execution_count": 12,
      "outputs": []
    },
    {
      "cell_type": "code",
      "source": [
        "# check if pre-trained word embeddings flag is true\n",
        "if pre_trained_flag == True:\n",
        "  embedding_matrix = get_vectors( tokenizer=tokenizer)\n",
        "\n",
        "VOCAB_LEN = embedding_matrix.shape[0]\n",
        "emb_matrix = embedding_matrix\n",
        "EMB_LEN, EMB_DIM = emb_matrix.shape\n",
        "EMB_LEN, EMB_DIM"
      ],
      "metadata": {
        "colab": {
          "base_uri": "https://localhost:8080/"
        },
        "id": "LiFLEmDMYfN4",
        "outputId": "f3f3d2cf-99bd-4f7e-a693-b6cd09ac3715"
      },
      "execution_count": 13,
      "outputs": [
        {
          "output_type": "execute_result",
          "data": {
            "text/plain": [
              "(45848, 300)"
            ]
          },
          "metadata": {},
          "execution_count": 13
        }
      ]
    },
    {
      "cell_type": "code",
      "metadata": {
        "colab": {
          "base_uri": "https://localhost:8080/"
        },
        "id": "qxTDfnzRlGrC",
        "outputId": "c1937b83-2497-42c3-8b90-5e7bb8a3a1c4"
      },
      "source": [
        "from sklearn.utils.class_weight import compute_class_weight\n",
        "cls_weights = compute_class_weight(class_weight=\"balanced\", classes=[0,1], y=ytrain)\n",
        "cls_weights = torch.tensor(cls_weights)\n",
        "cls_weights = cls_weights[1]/cls_weights[0]\n",
        "cls_weights "
      ],
      "execution_count": 14,
      "outputs": [
        {
          "output_type": "execute_result",
          "data": {
            "text/plain": [
              "tensor(4.5315, dtype=torch.float64)"
            ]
          },
          "metadata": {},
          "execution_count": 14
        }
      ]
    },
    {
      "cell_type": "code",
      "source": [
        "BATCH_SIZE = 64\n",
        "LR = 5e-6\n",
        "MAX_LEN = 200"
      ],
      "metadata": {
        "id": "9v3AoeAvxVOf"
      },
      "execution_count": 15,
      "outputs": []
    },
    {
      "cell_type": "code",
      "source": [
        "# # Load the TensorBoard notebook extension for train/val graph visualization\n",
        "# import tensorboard\n",
        "# import tensorflow as tf\n",
        "# from tensorboard import notebook\n",
        "# %load_ext tensorboard\n",
        "# %tensorboard --logdir SAVE_PTH+\"logs/\"\n",
        "# notebook.list() # View open TensorBoard instances\n",
        "# # Control TensorBoard display. If no port is provided, \n",
        "# # the most recently launched TensorBoard is used\n",
        "# # notebook.display(port=6006, height=600)\n",
        "# if path.isdir(SAVE_PTH+\"logs/\"): pass\n",
        "# else: os.makedirs(SAVE_PTH+\"logs/\")"
      ],
      "metadata": {
        "id": "IQK1FbTzKb6t"
      },
      "execution_count": null,
      "outputs": []
    },
    {
      "cell_type": "code",
      "source": [
        "# from gensim.models.fasttext import FastText\n",
        "# e_model = FastText.load_fasttext_format(embeddingfile)\n",
        "# VOCAB_LEN = len(list(e_model.wv.vectors))\n",
        "# emb_matrix = e_model.wv.vectors\n",
        "# EMB_LEN, EMB_DIM = emb_matrix.shape\n",
        "# print('Vocabulary size', VOCAB_LEN)\n",
        "# print('Embedding dimension', EMB_LEN, EMB_DIM)\n",
        "\n"
      ],
      "metadata": {
        "id": "nE3t_3WmC4DW"
      },
      "execution_count": null,
      "outputs": []
    },
    {
      "cell_type": "code",
      "metadata": {
        "colab": {
          "base_uri": "https://localhost:8080/"
        },
        "id": "pwBb9v9uOfyk",
        "outputId": "59dcca06-eb3d-4e1f-c33b-7096f121118b"
      },
      "source": [
        "from sklearn.utils import class_weight\n",
        "train_dataset_ = RCNNDataset(xtrain, ytrain, MAX_LEN)\n",
        "valid_dataset_ = RCNNDataset(xval, yval, MAX_LEN)\n",
        "\n",
        "# model = LSTMSentimentNet(VOCAB_LEN, CONFIG.embed_size, CONFIG.hidden_size, CONFIG.output_size, CONFIG.dropout_keep, torch.Tensor(emb_matrix), None, \"binary\")\n",
        "model = RCNN_(VOCAB_LEN, CONFIG.embed_size, CONFIG.hidden_size, CONFIG.hidden_size_linear, CONFIG.hidden_size_linear1, CONFIG.hidden_size_linear2, CONFIG.hidden_size_linear3, CONFIG.output_size, CONFIG.dropout_keep, torch.Tensor(emb_matrix), cls_weights, None)\n",
        "\n",
        "tb_logger = tez.callbacks.TensorBoardLogger(log_dir=SAVE_PTH+\"logs/\")\n",
        "es = tez.callbacks.EarlyStopping(monitor=\"valid_f1_score\", patience=10, mode=\"max\", model_path=SAVE_PTH+\"RCNN_Pretrained_model.bin\")\n",
        "\n",
        "model.fit(\n",
        "    train_dataset_,\n",
        "    valid_dataset=valid_dataset_,\n",
        "    train_bs = 128,\n",
        "    valid_bs = 256,\n",
        "    device=\"cuda\",\n",
        "    epochs = 100,\n",
        "    callbacks = [tb_logger, es],\n",
        "    fp16=True,\n",
        "    n_jobs=4,\n",
        ")\n",
        "\n",
        "with open(SAVE_PTH + \"RCNN_TRAIN.txt\", \"w\") as fl:\n",
        "  fl.write(str(model.metrics))\n",
        "fl.close()"
      ],
      "execution_count": 16,
      "outputs": [
        {
          "output_type": "stream",
          "name": "stderr",
          "text": [
            "100%|██████████| 399/399 [00:29<00:00, 13.75it/s, accuracy=0.86, f1_score=0.666, loss=0.607, precision=0.607, recall=0.792, stage=train]\n",
            "100%|██████████| 23/23 [00:01<00:00, 16.90it/s, accuracy=0.871, f1_score=0.71, loss=0.453, precision=0.596, recall=0.884, stage=valid]\n"
          ]
        },
        {
          "output_type": "stream",
          "name": "stdout",
          "text": [
            "Validation score improved (-inf --> 0.7098808898363138). Saving model!\n"
          ]
        },
        {
          "output_type": "stream",
          "name": "stderr",
          "text": [
            "100%|██████████| 399/399 [00:28<00:00, 13.88it/s, accuracy=0.902, f1_score=0.761, loss=0.408, precision=0.679, recall=0.881, stage=train]\n",
            "100%|██████████| 23/23 [00:01<00:00, 17.13it/s, accuracy=0.915, f1_score=0.784, loss=0.411, precision=0.732, recall=0.85, stage=valid]\n"
          ]
        },
        {
          "output_type": "stream",
          "name": "stdout",
          "text": [
            "Validation score improved (0.7098808898363138 --> 0.7839044857375341). Saving model!\n"
          ]
        },
        {
          "output_type": "stream",
          "name": "stderr",
          "text": [
            "100%|██████████| 399/399 [00:28<00:00, 13.87it/s, accuracy=0.911, f1_score=0.784, loss=0.365, precision=0.702, recall=0.901, stage=train]\n",
            "100%|██████████| 23/23 [00:01<00:00, 17.39it/s, accuracy=0.908, f1_score=0.776, loss=0.382, precision=0.69, recall=0.893, stage=valid]\n"
          ]
        },
        {
          "output_type": "stream",
          "name": "stdout",
          "text": [
            "EarlyStopping counter: 1 out of 10\n"
          ]
        },
        {
          "output_type": "stream",
          "name": "stderr",
          "text": [
            "100%|██████████| 399/399 [00:29<00:00, 13.71it/s, accuracy=0.919, f1_score=0.801, loss=0.334, precision=0.72, recall=0.913, stage=train]\n",
            "100%|██████████| 23/23 [00:01<00:00, 16.65it/s, accuracy=0.896, f1_score=0.761, loss=0.367, precision=0.649, recall=0.925, stage=valid]\n"
          ]
        },
        {
          "output_type": "stream",
          "name": "stdout",
          "text": [
            "EarlyStopping counter: 2 out of 10\n"
          ]
        },
        {
          "output_type": "stream",
          "name": "stderr",
          "text": [
            "100%|██████████| 399/399 [00:28<00:00, 13.91it/s, accuracy=0.924, f1_score=0.811, loss=0.314, precision=0.734, recall=0.918, stage=train]\n",
            "100%|██████████| 23/23 [00:01<00:00, 17.22it/s, accuracy=0.923, f1_score=0.804, loss=0.363, precision=0.742, recall=0.883, stage=valid]\n"
          ]
        },
        {
          "output_type": "stream",
          "name": "stdout",
          "text": [
            "Validation score improved (0.7839044857375341 --> 0.8042709830860896). Saving model!\n"
          ]
        },
        {
          "output_type": "stream",
          "name": "stderr",
          "text": [
            "100%|██████████| 399/399 [00:28<00:00, 13.78it/s, accuracy=0.929, f1_score=0.823, loss=0.291, precision=0.745, recall=0.93, stage=train]\n",
            "100%|██████████| 23/23 [00:01<00:00, 16.77it/s, accuracy=0.902, f1_score=0.772, loss=0.362, precision=0.668, recall=0.919, stage=valid]\n"
          ]
        },
        {
          "output_type": "stream",
          "name": "stdout",
          "text": [
            "EarlyStopping counter: 1 out of 10\n"
          ]
        },
        {
          "output_type": "stream",
          "name": "stderr",
          "text": [
            "100%|██████████| 399/399 [00:28<00:00, 13.89it/s, accuracy=0.933, f1_score=0.831, loss=0.276, precision=0.755, recall=0.934, stage=train]\n",
            "100%|██████████| 23/23 [00:01<00:00, 16.92it/s, accuracy=0.926, f1_score=0.81, loss=0.356, precision=0.749, recall=0.889, stage=valid]\n"
          ]
        },
        {
          "output_type": "stream",
          "name": "stdout",
          "text": [
            "Validation score improved (0.8042709830860896 --> 0.8102667809420582). Saving model!\n"
          ]
        },
        {
          "output_type": "stream",
          "name": "stderr",
          "text": [
            "100%|██████████| 399/399 [00:29<00:00, 13.72it/s, accuracy=0.937, f1_score=0.842, loss=0.255, precision=0.768, recall=0.94, stage=train]\n",
            "100%|██████████| 23/23 [00:01<00:00, 16.91it/s, accuracy=0.925, f1_score=0.808, loss=0.362, precision=0.748, recall=0.885, stage=valid]\n"
          ]
        },
        {
          "output_type": "stream",
          "name": "stdout",
          "text": [
            "EarlyStopping counter: 1 out of 10\n"
          ]
        },
        {
          "output_type": "stream",
          "name": "stderr",
          "text": [
            "100%|██████████| 399/399 [00:28<00:00, 13.92it/s, accuracy=0.941, f1_score=0.849, loss=0.24, precision=0.777, recall=0.944, stage=train]\n",
            "100%|██████████| 23/23 [00:01<00:00, 17.26it/s, accuracy=0.914, f1_score=0.791, loss=0.347, precision=0.701, recall=0.911, stage=valid]\n"
          ]
        },
        {
          "output_type": "stream",
          "name": "stdout",
          "text": [
            "EarlyStopping counter: 2 out of 10\n"
          ]
        },
        {
          "output_type": "stream",
          "name": "stderr",
          "text": [
            "100%|██████████| 399/399 [00:28<00:00, 13.84it/s, accuracy=0.943, f1_score=0.857, loss=0.226, precision=0.786, recall=0.95, stage=train]\n",
            "100%|██████████| 23/23 [00:01<00:00, 16.62it/s, accuracy=0.916, f1_score=0.796, loss=0.351, precision=0.708, recall=0.912, stage=valid]\n"
          ]
        },
        {
          "output_type": "stream",
          "name": "stdout",
          "text": [
            "EarlyStopping counter: 3 out of 10\n"
          ]
        },
        {
          "output_type": "stream",
          "name": "stderr",
          "text": [
            "100%|██████████| 399/399 [00:28<00:00, 14.04it/s, accuracy=0.947, f1_score=0.866, loss=0.212, precision=0.798, recall=0.954, stage=train]\n",
            "100%|██████████| 23/23 [00:01<00:00, 16.93it/s, accuracy=0.926, f1_score=0.809, loss=0.367, precision=0.752, recall=0.881, stage=valid]\n"
          ]
        },
        {
          "output_type": "stream",
          "name": "stdout",
          "text": [
            "EarlyStopping counter: 4 out of 10\n"
          ]
        },
        {
          "output_type": "stream",
          "name": "stderr",
          "text": [
            "100%|██████████| 399/399 [00:28<00:00, 13.82it/s, accuracy=0.951, f1_score=0.875, loss=0.199, precision=0.808, recall=0.96, stage=train]\n",
            "100%|██████████| 23/23 [00:01<00:00, 16.63it/s, accuracy=0.923, f1_score=0.804, loss=0.372, precision=0.743, recall=0.881, stage=valid]\n"
          ]
        },
        {
          "output_type": "stream",
          "name": "stdout",
          "text": [
            "EarlyStopping counter: 5 out of 10\n"
          ]
        },
        {
          "output_type": "stream",
          "name": "stderr",
          "text": [
            "100%|██████████| 399/399 [00:28<00:00, 13.90it/s, accuracy=0.955, f1_score=0.883, loss=0.185, precision=0.818, recall=0.966, stage=train]\n",
            "100%|██████████| 23/23 [00:01<00:00, 17.35it/s, accuracy=0.916, f1_score=0.795, loss=0.366, precision=0.708, recall=0.909, stage=valid]\n"
          ]
        },
        {
          "output_type": "stream",
          "name": "stdout",
          "text": [
            "EarlyStopping counter: 6 out of 10\n"
          ]
        },
        {
          "output_type": "stream",
          "name": "stderr",
          "text": [
            "100%|██████████| 399/399 [00:28<00:00, 13.99it/s, accuracy=0.958, f1_score=0.891, loss=0.171, precision=0.829, recall=0.969, stage=train]\n",
            "100%|██████████| 23/23 [00:01<00:00, 16.76it/s, accuracy=0.927, f1_score=0.813, loss=0.395, precision=0.756, recall=0.883, stage=valid]\n"
          ]
        },
        {
          "output_type": "stream",
          "name": "stdout",
          "text": [
            "Validation score improved (0.8102667809420582 --> 0.8128506492115158). Saving model!\n"
          ]
        },
        {
          "output_type": "stream",
          "name": "stderr",
          "text": [
            "100%|██████████| 399/399 [00:32<00:00, 12.20it/s, accuracy=0.96, f1_score=0.898, loss=0.159, precision=0.837, recall=0.973, stage=train]\n",
            "100%|██████████| 23/23 [00:01<00:00, 17.08it/s, accuracy=0.934, f1_score=0.825, loss=0.464, precision=0.798, recall=0.862, stage=valid]\n"
          ]
        },
        {
          "output_type": "stream",
          "name": "stdout",
          "text": [
            "Validation score improved (0.8128506492115158 --> 0.8254088324356511). Saving model!\n"
          ]
        },
        {
          "output_type": "stream",
          "name": "stderr",
          "text": [
            "100%|██████████| 399/399 [00:29<00:00, 13.34it/s, accuracy=0.964, f1_score=0.905, loss=0.147, precision=0.849, recall=0.974, stage=train]\n",
            "100%|██████████| 23/23 [00:01<00:00, 16.63it/s, accuracy=0.934, f1_score=0.825, loss=0.434, precision=0.788, recall=0.87, stage=valid]\n"
          ]
        },
        {
          "output_type": "stream",
          "name": "stdout",
          "text": [
            "EarlyStopping counter: 1 out of 10\n"
          ]
        },
        {
          "output_type": "stream",
          "name": "stderr",
          "text": [
            "100%|██████████| 399/399 [00:28<00:00, 13.80it/s, accuracy=0.967, f1_score=0.914, loss=0.136, precision=0.86, recall=0.98, stage=train]\n",
            "100%|██████████| 23/23 [00:01<00:00, 17.07it/s, accuracy=0.93, f1_score=0.818, loss=0.44, precision=0.771, recall=0.876, stage=valid]\n"
          ]
        },
        {
          "output_type": "stream",
          "name": "stdout",
          "text": [
            "EarlyStopping counter: 2 out of 10\n"
          ]
        },
        {
          "output_type": "stream",
          "name": "stderr",
          "text": [
            "100%|██████████| 399/399 [00:28<00:00, 13.86it/s, accuracy=0.969, f1_score=0.919, loss=0.125, precision=0.867, recall=0.981, stage=train]\n",
            "100%|██████████| 23/23 [00:01<00:00, 16.64it/s, accuracy=0.924, f1_score=0.807, loss=0.454, precision=0.739, recall=0.895, stage=valid]\n"
          ]
        },
        {
          "output_type": "stream",
          "name": "stdout",
          "text": [
            "EarlyStopping counter: 3 out of 10\n"
          ]
        },
        {
          "output_type": "stream",
          "name": "stderr",
          "text": [
            "100%|██████████| 399/399 [00:28<00:00, 13.85it/s, accuracy=0.971, f1_score=0.924, loss=0.118, precision=0.875, recall=0.983, stage=train]\n",
            "100%|██████████| 23/23 [00:01<00:00, 16.58it/s, accuracy=0.928, f1_score=0.815, loss=0.459, precision=0.76, recall=0.883, stage=valid]\n"
          ]
        },
        {
          "output_type": "stream",
          "name": "stdout",
          "text": [
            "EarlyStopping counter: 4 out of 10\n"
          ]
        },
        {
          "output_type": "stream",
          "name": "stderr",
          "text": [
            "100%|██████████| 399/399 [00:28<00:00, 13.89it/s, accuracy=0.974, f1_score=0.931, loss=0.106, precision=0.886, recall=0.984, stage=train]\n",
            "100%|██████████| 23/23 [00:01<00:00, 16.61it/s, accuracy=0.934, f1_score=0.826, loss=0.529, precision=0.789, recall=0.872, stage=valid]\n"
          ]
        },
        {
          "output_type": "stream",
          "name": "stdout",
          "text": [
            "EarlyStopping counter: 5 out of 10\n"
          ]
        },
        {
          "output_type": "stream",
          "name": "stderr",
          "text": [
            "100%|██████████| 399/399 [00:28<00:00, 13.83it/s, accuracy=0.976, f1_score=0.936, loss=0.0992, precision=0.893, recall=0.986, stage=train]\n",
            "100%|██████████| 23/23 [00:01<00:00, 17.00it/s, accuracy=0.937, f1_score=0.831, loss=0.543, precision=0.803, recall=0.867, stage=valid]\n"
          ]
        },
        {
          "output_type": "stream",
          "name": "stdout",
          "text": [
            "Validation score improved (0.8254088324356511 --> 0.8314014279692657). Saving model!\n"
          ]
        },
        {
          "output_type": "stream",
          "name": "stderr",
          "text": [
            "100%|██████████| 399/399 [00:28<00:00, 13.95it/s, accuracy=0.979, f1_score=0.942, loss=0.0896, precision=0.904, recall=0.987, stage=train]\n",
            "100%|██████████| 23/23 [00:01<00:00, 16.72it/s, accuracy=0.933, f1_score=0.822, loss=0.53, precision=0.783, recall=0.871, stage=valid]\n"
          ]
        },
        {
          "output_type": "stream",
          "name": "stdout",
          "text": [
            "EarlyStopping counter: 1 out of 10\n"
          ]
        },
        {
          "output_type": "stream",
          "name": "stderr",
          "text": [
            "100%|██████████| 399/399 [00:28<00:00, 13.91it/s, accuracy=0.981, f1_score=0.948, loss=0.0813, precision=0.911, recall=0.991, stage=train]\n",
            "100%|██████████| 23/23 [00:01<00:00, 16.82it/s, accuracy=0.932, f1_score=0.821, loss=0.57, precision=0.78, recall=0.871, stage=valid]\n"
          ]
        },
        {
          "output_type": "stream",
          "name": "stdout",
          "text": [
            "EarlyStopping counter: 2 out of 10\n"
          ]
        },
        {
          "output_type": "stream",
          "name": "stderr",
          "text": [
            "100%|██████████| 399/399 [00:28<00:00, 13.83it/s, accuracy=0.982, f1_score=0.952, loss=0.0726, precision=0.917, recall=0.992, stage=train]\n",
            "100%|██████████| 23/23 [00:01<00:00, 16.65it/s, accuracy=0.934, f1_score=0.824, loss=0.602, precision=0.798, recall=0.857, stage=valid]\n"
          ]
        },
        {
          "output_type": "stream",
          "name": "stdout",
          "text": [
            "EarlyStopping counter: 3 out of 10\n"
          ]
        },
        {
          "output_type": "stream",
          "name": "stderr",
          "text": [
            "100%|██████████| 399/399 [00:28<00:00, 13.87it/s, accuracy=0.985, f1_score=0.959, loss=0.0639, precision=0.928, recall=0.993, stage=train]\n",
            "100%|██████████| 23/23 [00:01<00:00, 16.93it/s, accuracy=0.933, f1_score=0.823, loss=0.648, precision=0.792, recall=0.861, stage=valid]\n"
          ]
        },
        {
          "output_type": "stream",
          "name": "stdout",
          "text": [
            "EarlyStopping counter: 4 out of 10\n"
          ]
        },
        {
          "output_type": "stream",
          "name": "stderr",
          "text": [
            "100%|██████████| 399/399 [00:28<00:00, 13.86it/s, accuracy=0.985, f1_score=0.959, loss=0.0603, precision=0.93, recall=0.993, stage=train]\n",
            "100%|██████████| 23/23 [00:01<00:00, 16.87it/s, accuracy=0.934, f1_score=0.822, loss=0.685, precision=0.802, recall=0.85, stage=valid]\n"
          ]
        },
        {
          "output_type": "stream",
          "name": "stdout",
          "text": [
            "EarlyStopping counter: 5 out of 10\n"
          ]
        },
        {
          "output_type": "stream",
          "name": "stderr",
          "text": [
            "100%|██████████| 399/399 [00:28<00:00, 13.90it/s, accuracy=0.988, f1_score=0.966, loss=0.0531, precision=0.941, recall=0.995, stage=train]\n",
            "100%|██████████| 23/23 [00:01<00:00, 16.80it/s, accuracy=0.929, f1_score=0.814, loss=0.678, precision=0.771, recall=0.866, stage=valid]\n"
          ]
        },
        {
          "output_type": "stream",
          "name": "stdout",
          "text": [
            "EarlyStopping counter: 6 out of 10\n"
          ]
        },
        {
          "output_type": "stream",
          "name": "stderr",
          "text": [
            "100%|██████████| 399/399 [00:28<00:00, 14.01it/s, accuracy=0.988, f1_score=0.968, loss=0.0498, precision=0.944, recall=0.994, stage=train]\n",
            "100%|██████████| 23/23 [00:01<00:00, 16.50it/s, accuracy=0.937, f1_score=0.829, loss=0.759, precision=0.819, recall=0.845, stage=valid]\n"
          ]
        },
        {
          "output_type": "stream",
          "name": "stdout",
          "text": [
            "EarlyStopping counter: 7 out of 10\n"
          ]
        },
        {
          "output_type": "stream",
          "name": "stderr",
          "text": [
            "100%|██████████| 399/399 [00:28<00:00, 13.85it/s, accuracy=0.989, f1_score=0.971, loss=0.0436, precision=0.949, recall=0.996, stage=train]\n",
            "100%|██████████| 23/23 [00:01<00:00, 16.63it/s, accuracy=0.938, f1_score=0.832, loss=0.784, precision=0.817, recall=0.853, stage=valid]\n"
          ]
        },
        {
          "output_type": "stream",
          "name": "stdout",
          "text": [
            "EarlyStopping counter: 8 out of 10\n"
          ]
        },
        {
          "output_type": "stream",
          "name": "stderr",
          "text": [
            "100%|██████████| 399/399 [00:28<00:00, 13.84it/s, accuracy=0.99, f1_score=0.973, loss=0.0417, precision=0.952, recall=0.996, stage=train]\n",
            "100%|██████████| 23/23 [00:01<00:00, 16.78it/s, accuracy=0.932, f1_score=0.82, loss=0.765, precision=0.787, recall=0.864, stage=valid]\n"
          ]
        },
        {
          "output_type": "stream",
          "name": "stdout",
          "text": [
            "EarlyStopping counter: 9 out of 10\n"
          ]
        },
        {
          "output_type": "stream",
          "name": "stderr",
          "text": [
            "100%|██████████| 399/399 [00:28<00:00, 13.88it/s, accuracy=0.99, f1_score=0.972, loss=0.0401, precision=0.95, recall=0.996, stage=train]\n",
            "100%|██████████| 23/23 [00:01<00:00, 17.31it/s, accuracy=0.931, f1_score=0.815, loss=0.804, precision=0.787, recall=0.85, stage=valid]"
          ]
        },
        {
          "output_type": "stream",
          "name": "stdout",
          "text": [
            "EarlyStopping counter: 10 out of 10\n"
          ]
        },
        {
          "output_type": "stream",
          "name": "stderr",
          "text": [
            "\n"
          ]
        }
      ]
    },
    {
      "cell_type": "code",
      "source": [
        "def Test(model_pth, xtest, ytest, MAX_LEN):\n",
        "  model.load(model_pth)\n",
        "  test_dataset = RCNNDataset(xtest, ytest, MAX_LEN)\n",
        "  preds  = model.predict(test_dataset, batch_size=1)\n",
        "  predictions = []\n",
        "  for i, pred in enumerate(preds):\n",
        "    predictions.extend(pred)  \n",
        "  ypred = torch.sigmoid(torch.Tensor(predictions))\n",
        "  ypred = np.array(ypred.cpu().numpy()) >= 0.5\n",
        "  acc = metrics.accuracy_score(ytest, ypred)\n",
        "  f1 = metrics.f1_score(ytest, ypred)\n",
        "  prec = metrics.precision_score(ytest, ypred)\n",
        "  reca = metrics.recall_score(ytest, ypred)\n",
        "  cm = metrics.confusion_matrix(ytest, ypred) \n",
        "  print(f\"Accuracy: {acc}\\nF1 Score: {f1}\\nPrecision: {prec}\\nRecall: {reca}\")\n",
        "  model.metrics['test']['accuracy'] = acc\n",
        "  model.metrics['test'][\"precision\"] = prec\n",
        "  model.metrics['test']['f1_score'] = f1\n",
        "  model.metrics['test']['recall'] = reca\n",
        "  return model.metrics, predictions, ytest, cm"
      ],
      "metadata": {
        "id": "404QO4sB2Ive"
      },
      "execution_count": 23,
      "outputs": []
    },
    {
      "cell_type": "code",
      "source": [
        "metric, predictions, targets, cm = Test(SAVE_PTH+\"RCNN_Pretrained_model.bin\", xtest, ytest, 200)"
      ],
      "metadata": {
        "id": "OfejNCu32-nL",
        "colab": {
          "base_uri": "https://localhost:8080/"
        },
        "outputId": "f38310b7-290e-4211-f0c6-3bcfb1067d3d"
      },
      "execution_count": 24,
      "outputs": [
        {
          "output_type": "stream",
          "name": "stderr",
          "text": [
            "100%|██████████| 14174/14174 [05:22<00:00, 44.01it/s, stage=test]\n"
          ]
        },
        {
          "output_type": "stream",
          "name": "stdout",
          "text": [
            "Accuracy: 0.9386200084662057\n",
            "F1 Score: 0.8319165378670789\n",
            "Precision: 0.8239571373899732\n",
            "Recall: 0.8400312134217713\n"
          ]
        }
      ]
    },
    {
      "cell_type": "code",
      "source": [
        "sns.heatmap(cm, annot=True, cmap='Blues', fmt=\"d\", xticklabels=['Non Toxic','Toxic'], yticklabels=['Non Toxic','Toxic'])"
      ],
      "metadata": {
        "colab": {
          "base_uri": "https://localhost:8080/",
          "height": 282
        },
        "id": "n3holb8u8r1n",
        "outputId": "b8c6d5bf-9a7f-4aad-da83-b9d99563c1f1"
      },
      "execution_count": 25,
      "outputs": [
        {
          "output_type": "execute_result",
          "data": {
            "text/plain": [
              "<matplotlib.axes._subplots.AxesSubplot at 0x7fc0d13a0e50>"
            ]
          },
          "metadata": {},
          "execution_count": 25
        },
        {
          "output_type": "display_data",
          "data": {
            "image/png": "[encoded data removed]",
            "text/plain": [
              "<Figure size 432x288 with 2 Axes>"
            ]
          },
          "metadata": {
            "needs_background": "light"
          }
        }
      ]
    },
    {
      "cell_type": "code",
      "source": [
        "with open(SAVE_PTH + \"RCNN_Pretrained_PERFORMANCE.txt\", \"w\") as fl:\n",
        "  fl.write(str(metric))\n",
        "fl.close()"
      ],
      "metadata": {
        "id": "6EJ1S3aV3Jks"
      },
      "execution_count": 26,
      "outputs": []
    },
    {
      "cell_type": "code",
      "source": [
        "preds = nn.Sigmoid()(torch.Tensor(predictions)).cpu().numpy()\n",
        "preds=preds.squeeze(1)"
      ],
      "metadata": {
        "id": "c_rh4cjebrI1"
      },
      "execution_count": 52,
      "outputs": []
    },
    {
      "cell_type": "code",
      "source": [
        "pred_label = preds > 0.5\n",
        "pred_label=pred_label.squeeze(1)"
      ],
      "metadata": {
        "id": "n7GOe84icWw2"
      },
      "execution_count": null,
      "outputs": []
    },
    {
      "cell_type": "code",
      "source": [
        "pred_label.shape"
      ],
      "metadata": {
        "colab": {
          "base_uri": "https://localhost:8080/"
        },
        "id": "0q7q5t_OcrOp",
        "outputId": "332a9647-0308-4b3b-93d2-46556aba24bd"
      },
      "execution_count": 55,
      "outputs": [
        {
          "output_type": "execute_result",
          "data": {
            "text/plain": [
              "(14174,)"
            ]
          },
          "metadata": {},
          "execution_count": 55
        }
      ]
    },
    {
      "cell_type": "code",
      "source": [
        "data = {\n",
        "    \"comment_label\": targets,\n",
        "    \"comment_predicted\": pred_label,\n",
        "    \"comment_prob\": preds\n",
        "}"
      ],
      "metadata": {
        "id": "tcGmdE5wc1Az"
      },
      "execution_count": 60,
      "outputs": []
    },
    {
      "cell_type": "code",
      "source": [
        "df = pd.DataFrame(data)\n",
        "df['comment_predicted'] = df['comment_predicted'].apply(lambda x: 0 if x==False else 1)\n",
        "df.head()"
      ],
      "metadata": {
        "colab": {
          "base_uri": "https://localhost:8080/",
          "height": 206
        },
        "id": "7gCfwJEbdC5t",
        "outputId": "860ace24-12cd-4371-f03d-a17c13c41906"
      },
      "execution_count": 61,
      "outputs": [
        {
          "output_type": "execute_result",
          "data": {
            "text/html": [
              "\n",
              "  <div id=\"df-647b246d-dabf-45b0-9c56-d6371fca7a8d\">\n",
              "    <div class=\"colab-df-container\">\n",
              "      <div>\n",
              "<style scoped>\n",
              "    .dataframe tbody tr th:only-of-type {\n",
              "        vertical-align: middle;\n",
              "    }\n",
              "\n",
              "    .dataframe tbody tr th {\n",
              "        vertical-align: top;\n",
              "    }\n",
              "\n",
              "    .dataframe thead th {\n",
              "        text-align: right;\n",
              "    }\n",
              "</style>\n",
              "<table border=\"1\" class=\"dataframe\">\n",
              "  <thead>\n",
              "    <tr style=\"text-align: right;\">\n",
              "      <th></th>\n",
              "      <th>comment_label</th>\n",
              "      <th>comment_predicted</th>\n",
              "      <th>comment_prob</th>\n",
              "    </tr>\n",
              "  </thead>\n",
              "  <tbody>\n",
              "    <tr>\n",
              "      <th>0</th>\n",
              "      <td>0</td>\n",
              "      <td>0</td>\n",
              "      <td>3.288749e-06</td>\n",
              "    </tr>\n",
              "    <tr>\n",
              "      <th>1</th>\n",
              "      <td>1</td>\n",
              "      <td>1</td>\n",
              "      <td>9.850429e-01</td>\n",
              "    </tr>\n",
              "    <tr>\n",
              "      <th>2</th>\n",
              "      <td>1</td>\n",
              "      <td>1</td>\n",
              "      <td>5.827285e-01</td>\n",
              "    </tr>\n",
              "    <tr>\n",
              "      <th>3</th>\n",
              "      <td>0</td>\n",
              "      <td>0</td>\n",
              "      <td>3.791042e-09</td>\n",
              "    </tr>\n",
              "    <tr>\n",
              "      <th>4</th>\n",
              "      <td>0</td>\n",
              "      <td>0</td>\n",
              "      <td>2.117659e-11</td>\n",
              "    </tr>\n",
              "  </tbody>\n",
              "</table>\n",
              "</div>\n",
              "      <button class=\"colab-df-convert\" onclick=\"convertToInteractive('df-647b246d-dabf-45b0-9c56-d6371fca7a8d')\"\n",
              "              title=\"Convert this dataframe to an interactive table.\"\n",
              "              style=\"display:none;\">\n",
              "        \n",
              "  <svg xmlns=\"http://www.w3.org/2000/svg\" height=\"24px\"viewBox=\"0 0 24 24\"\n",
              "       width=\"24px\">\n",
              "    <path d=\"M0 0h24v24H0V0z\" fill=\"none\"/>\n",
              "    <path d=\"M18.56 5.44l.94 2.06.94-2.06 2.06-.94-2.06-.94-.94-2.06-.94 2.06-2.06.94zm-11 1L8.5 8.5l.94-2.06 2.06-.94-2.06-.94L8.5 2.5l-.94 2.06-2.06.94zm10 10l.94 2.06.94-2.06 2.06-.94-2.06-.94-.94-2.06-.94 2.06-2.06.94z\"/><path d=\"M17.41 7.96l-1.37-1.37c-.4-.4-.92-.59-1.43-.59-.52 0-1.04.2-1.43.59L10.3 9.45l-7.72 7.72c-.78.78-.78 2.05 0 2.83L4 21.41c.39.39.9.59 1.41.59.51 0 1.02-.2 1.41-.59l7.78-7.78 2.81-2.81c.8-.78.8-2.07 0-2.86zM5.41 20L4 18.59l7.72-7.72 1.47 1.35L5.41 20z\"/>\n",
              "  </svg>\n",
              "      </button>\n",
              "      \n",
              "  <style>\n",
              "    .colab-df-container {\n",
              "      display:flex;\n",
              "      flex-wrap:wrap;\n",
              "      gap: 12px;\n",
              "    }\n",
              "\n",
              "    .colab-df-convert {\n",
              "      background-color: #E8F0FE;\n",
              "      border: none;\n",
              "      border-radius: 50%;\n",
              "      cursor: pointer;\n",
              "      display: none;\n",
              "      fill: #1967D2;\n",
              "      height: 32px;\n",
              "      padding: 0 0 0 0;\n",
              "      width: 32px;\n",
              "    }\n",
              "\n",
              "    .colab-df-convert:hover {\n",
              "      background-color: #E2EBFA;\n",
              "      box-shadow: 0px 1px 2px rgba(60, 64, 67, 0.3), 0px 1px 3px 1px rgba(60, 64, 67, 0.15);\n",
              "      fill: #174EA6;\n",
              "    }\n",
              "\n",
              "    [theme=dark] .colab-df-convert {\n",
              "      background-color: #3B4455;\n",
              "      fill: #D2E3FC;\n",
              "    }\n",
              "\n",
              "    [theme=dark] .colab-df-convert:hover {\n",
              "      background-color: #434B5C;\n",
              "      box-shadow: 0px 1px 3px 1px rgba(0, 0, 0, 0.15);\n",
              "      filter: drop-shadow(0px 1px 2px rgba(0, 0, 0, 0.3));\n",
              "      fill: #FFFFFF;\n",
              "    }\n",
              "  </style>\n",
              "\n",
              "      <script>\n",
              "        const buttonEl =\n",
              "          document.querySelector('#df-647b246d-dabf-45b0-9c56-d6371fca7a8d button.colab-df-convert');\n",
              "        buttonEl.style.display =\n",
              "          google.colab.kernel.accessAllowed ? 'block' : 'none';\n",
              "\n",
              "        async function convertToInteractive(key) {\n",
              "          const element = document.querySelector('#df-647b246d-dabf-45b0-9c56-d6371fca7a8d');\n",
              "          const dataTable =\n",
              "            await google.colab.kernel.invokeFunction('convertToInteractive',\n",
              "                                                     [key], {});\n",
              "          if (!dataTable) return;\n",
              "\n",
              "          const docLinkHtml = 'Like what you see? Visit the ' +\n",
              "            '<a target=\"_blank\" href=https://colab.research.google.com/notebooks/data_table.ipynb>data table notebook</a>'\n",
              "            + ' to learn more about interactive tables.';\n",
              "          element.innerHTML = '';\n",
              "          dataTable['output_type'] = 'display_data';\n",
              "          await google.colab.output.renderOutput(dataTable, element);\n",
              "          const docLink = document.createElement('div');\n",
              "          docLink.innerHTML = docLinkHtml;\n",
              "          element.appendChild(docLink);\n",
              "        }\n",
              "      </script>\n",
              "    </div>\n",
              "  </div>\n",
              "  "
            ],
            "text/plain": [
              "   comment_label  comment_predicted  comment_prob\n",
              "0              0                  0  3.288749e-06\n",
              "1              1                  1  9.850429e-01\n",
              "2              1                  1  5.827285e-01\n",
              "3              0                  0  3.791042e-09\n",
              "4              0                  0  2.117659e-11"
            ]
          },
          "metadata": {},
          "execution_count": 61
        }
      ]
    },
    {
      "cell_type": "code",
      "source": [
        "df.to_csv(SAVE_PTH+\"RCNN_ft.csv\")"
      ],
      "metadata": {
        "id": "jRghqhAPeGzG"
      },
      "execution_count": 64,
      "outputs": []
    },
    {
      "cell_type": "code",
      "source": [
        ""
      ],
      "metadata": {
        "id": "PyTFF-dzeSQb"
      },
      "execution_count": null,
      "outputs": []
    }
  ]
}